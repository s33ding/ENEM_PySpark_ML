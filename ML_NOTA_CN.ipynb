{
 "cells": [
  {
   "cell_type": "code",
   "execution_count": 1,
   "metadata": {},
   "outputs": [],
   "source": [
    "from pyspark.sql.types import *\n",
    "import pandas as pd\n",
    "import pyspark \n",
    "import os \n",
    "from pyspark.sql import SparkSession\n",
    "from pyspark.sql.functions import regexp_replace, col, sum as spark_sum\n",
    "from pyspark.sql import functions as F\n",
    "import matplotlib.pyplot as plt\n",
    "import seaborn as sns\n",
    "\n",
    "from pyspark.ml.feature import VectorAssembler\n",
    "from pyspark.ml.regression import LinearRegression, DecisionTreeRegressor, RandomForestRegressor\n",
    "from pyspark.ml.evaluation import RegressionEvaluator\n"
   ]
  },
  {
   "cell_type": "code",
   "execution_count": 2,
   "metadata": {},
   "outputs": [
    {
     "name": "stderr",
     "output_type": "stream",
     "text": [
      "Setting default log level to \"WARN\".\n",
      "To adjust logging level use sc.setLogLevel(newLevel). For SparkR, use setLogLevel(newLevel).\n",
      "23/06/10 16:55:51 WARN NativeCodeLoader: Unable to load native-hadoop library for your platform... using builtin-java classes where applicable\n",
      "23/06/10 16:55:52 WARN Utils: Service 'SparkUI' could not bind on port 4040. Attempting port 4041.\n",
      "                                                                                \r"
     ]
    }
   ],
   "source": [
    "# Start a Spark session\n",
    "spark = SparkSession.builder.appName(\"s33ding\").getOrCreate()\n",
    "\n",
    "# Read the Parquet file into a DataFrame\n",
    "df = spark.read.parquet(\"dataset/enem.parquet\")"
   ]
  },
  {
   "cell_type": "code",
   "execution_count": 3,
   "metadata": {},
   "outputs": [],
   "source": [
    "# Assemble the features\n",
    "assembler = VectorAssembler(\n",
    "    inputCols=[\"NOTA_CH_CIENCIAS_HUMANAS\", \"NOTA_LC_LINGUAGENS_E_CODIGOS\", \"NOTA_MT_MATEMATICA\", \"NOTA_REDACAO\", \"NOTA_MEDIA_5_NOTAS\"],\n",
    "    outputCol=\"features\"\n",
    ")\n",
    "df = assembler.transform(df)"
   ]
  },
  {
   "cell_type": "code",
   "execution_count": 4,
   "metadata": {},
   "outputs": [
    {
     "name": "stderr",
     "output_type": "stream",
     "text": [
      "23/06/10 16:56:03 WARN package: Truncated the string representation of a plan since it was too large. This behavior can be adjusted by setting 'spark.sql.debug.maxToStringFields'.\n",
      "[Stage 1:>                                                          (0 + 1) / 1]\r"
     ]
    },
    {
     "name": "stdout",
     "output_type": "stream",
     "text": [
      "+------+------------+----------------+---------------+---------+--------------------+-------------+--------------------+--------------------+---------------+-------------+--------------+----------------------+------------------+---------------+-----------+-----------+------------------+--------------------+----------------------------+------------------------+----------------------------+------------------+------------+------------------+--------------------+\n",
      "|NU_ANO|NU_INSCRICAO| TP_FAIXA_ETARIA|Idade_Calculada|  TP_SEXO|     TP_ESTADO_CIVIL|  TP_COR_RACA|    TP_NACIONALIDADE|     TP_ST_CONCLUSAO|TP_ANO_CONCLUIU|    TP_ESCOLA|     TP_ENSINO|TP_DEPENDENCIA_ADM_ESC|TP_LOCALIZACAO_ESC|TP_SIT_FUNC_ESC|CO_UF_PROVA|SG_UF_PROVA|CO_MUNICIPIO_PROVA|  NO_MUNICIPIO_PROVA|NOTA_CN_CIENCIAS_DA_NATUREZA|NOTA_CH_CIENCIAS_HUMANAS|NOTA_LC_LINGUAGENS_E_CODIGOS|NOTA_MT_MATEMATICA|NOTA_REDACAO|NOTA_MEDIA_5_NOTAS|            features|\n",
      "+------+------------+----------------+---------------+---------+--------------------+-------------+--------------------+--------------------+---------------+-------------+--------------+----------------------+------------------+---------------+-----------+-----------+------------------+--------------------+----------------------------+------------------------+----------------------------+------------------+------------+------------------+--------------------+\n",
      "|  2020|200001014231|         21 anos|             21| Feminino|         Solteiro(a)|        Parda|Brasileiro(a) Nat...|Já concluí o Ensi...|  Não informado|Não respondeu| Não Respondeu|         Não Respondeu|     Não Respondeu|  Não Respondeu|         15|         PA|           1502202|            Capanema|                       411.3|                   478.4|                       426.8|             351.2|       380.0|            409.54|[478.399993896484...|\n",
      "|  2020|200001014264|         19 anos|             19|Masculino|         Solteiro(a)|        Parda|       Brasileiro(a)|Já concluí o Ensi...|           2019|Não respondeu| Não Respondeu|         Não Respondeu|     Não Respondeu|  Não Respondeu|         29|         BA|           2928000|            Santaluz|                       440.0|                   459.3|                       571.7|             467.0|       900.0|             567.6|[459.299987792968...|\n",
      "|  2020|200001014273|         18 anos|             18| Feminino|         Solteiro(a)|       Branca|       Brasileiro(a)|Estou cursando e ...|  Não informado|      Pública|Ensino Regular|              Estadual|            Urbana|   Em atividade|         31|         MG|           3169901|                 Ubá|                       607.1|                   435.7|                       568.2|             414.7|       960.0|            597.14|[435.700012207031...|\n",
      "|  2020|200001014279|         19 anos|             19| Feminino|         Solteiro(a)|       Branca|       Brasileiro(a)|Já concluí o Ensi...|           2018|Não respondeu| Não Respondeu|         Não Respondeu|     Não Respondeu|  Não Respondeu|         51|         MT|           5107958|    Tangará da Serra|                       461.7|                   429.1|                       541.1|             523.7|       600.0|            511.12|[429.100006103515...|\n",
      "|  2020|200001014312|         19 anos|             19| Feminino|         Solteiro(a)|        Parda|       Brasileiro(a)|Já concluí o Ensi...|           2019|Não respondeu| Não Respondeu|         Não Respondeu|     Não Respondeu|  Não Respondeu|         27|         AL|           2704302|              Maceió|                       412.8|                   347.8|                       413.4|             363.8|       340.0|            375.56|[347.799987792968...|\n",
      "|  2020|200001014352|         20 anos|             20| Feminino|         Solteiro(a)|        Parda|       Brasileiro(a)|Já concluí o Ensi...|           2017|Não respondeu| Não Respondeu|         Não Respondeu|     Não Respondeu|  Não Respondeu|         29|         BA|           2910800|    Feira de Santana|                       588.6|                   647.0|                       636.9|             739.8|       960.0|            714.46|[647.0,636.900024...|\n",
      "|  2020|200001014422|         17 anos|             17|Masculino|         Solteiro(a)|        Parda|       Brasileiro(a)|Estou cursando e ...|  Não informado|      Privada|Ensino Regular|               Privada|            Urbana|   Em atividade|         15|         PA|           1501402|               Belém|                       649.5|                   703.1|                       636.1|             780.3|       960.0|             745.8|[703.099975585937...|\n",
      "|  2020|200001014460|Menor de 17 anos|             16|Masculino|         Solteiro(a)|        Parda|       Brasileiro(a)|Já concluí o Ensi...|           2010|Não respondeu| Não Respondeu|         Não Respondeu|     Não Respondeu|  Não Respondeu|         16|         AP|           1600303|              Macapá|                       580.9|                   624.9|                       553.0|             549.5|       620.0|            585.66|[624.900024414062...|\n",
      "|  2020|200001014482|         22 anos|             22| Feminino|Casado(a)/Mora co...|        Parda|       Brasileiro(a)|Já concluí o Ensi...|           2015|Não respondeu| Não Respondeu|         Não Respondeu|     Não Respondeu|  Não Respondeu|         35|         SP|           3554300|     Teodoro Sampaio|                       554.2|                   558.6|                       534.4|             429.2|       540.0|            523.28|[558.599975585937...|\n",
      "|  2020|200001014566|         18 anos|             18|Masculino|         Solteiro(a)|        Parda|       Brasileiro(a)|Estou cursando e ...|  Não informado|      Privada|Ensino Regular|               Privada|            Urbana|   Em atividade|         28|         SE|           2800308|             Aracaju|                       662.6|                   703.0|                       610.5|             707.6|       840.0|            704.74|[703.0,610.5,707....|\n",
      "|  2020|200001014626|         18 anos|             18| Feminino|         Solteiro(a)|        Parda|       Brasileiro(a)|Estou cursando e ...|  Não informado|      Pública|Ensino Regular|              Estadual|            Urbana|   Em atividade|         23|         CE|           2309805|              Pacoti|                       434.7|                   495.7|                       470.6|             469.6|       820.0|            538.12|[495.700012207031...|\n",
      "|  2020|200001014639|         21 anos|             21|Masculino|         Solteiro(a)|        Parda|       Brasileiro(a)|Já concluí o Ensi...|           2017|Não respondeu| Não Respondeu|         Não Respondeu|     Não Respondeu|  Não Respondeu|         29|         BA|           2910800|    Feira de Santana|                       441.3|                   506.0|                       548.2|             492.6|       600.0|            517.62|[506.0,548.200012...|\n",
      "|  2020|200001014750|         19 anos|             19| Feminino|         Solteiro(a)|       Branca|       Brasileiro(a)|Já concluí o Ensi...|           2019|Não respondeu| Não Respondeu|         Não Respondeu|     Não Respondeu|  Não Respondeu|         29|         BA|           2928109|Santa Maria da Vi...|                       444.5|                   357.0|                       377.0|             480.7|       480.0|            427.84|[357.0,377.0,480....|\n",
      "|  2020|200001014760|         21 anos|             21|Masculino|         Solteiro(a)|       Branca|       Brasileiro(a)|Já concluí o Ensi...|  Não informado|Não respondeu| Não Respondeu|         Não Respondeu|     Não Respondeu|  Não Respondeu|         33|         RJ|           3304557|      Rio de Janeiro|                       502.8|                   483.5|                       503.6|             612.1|       320.0|             484.4|[483.5,503.600006...|\n",
      "|  2020|200001014783|Menor de 17 anos|             16| Feminino|       Não informado|      Amarela|       Brasileiro(a)|Já concluí o Ensi...|  Não informado|Não respondeu| Não Respondeu|         Não Respondeu|     Não Respondeu|  Não Respondeu|         35|         SP|           3547809|         Santo André|                       555.2|                   425.9|                       549.6|             631.8|       520.0|             536.5|[425.899993896484...|\n",
      "|  2020|200001014807|         17 anos|             17| Feminino|         Solteiro(a)|        Parda|       Brasileiro(a)|Estou cursando e ...|  Não informado|      Privada|Ensino Regular|               Privada|            Urbana|   Em atividade|         23|         CE|           2304400|           Fortaleza|                       586.8|                   572.9|                       603.7|             653.0|       840.0|            651.28|[572.900024414062...|\n",
      "|  2020|200001014831|Menor de 17 anos|             16| Feminino|         Solteiro(a)|       Branca|       Brasileiro(a)|Já concluí o Ensi...|           2011|Não respondeu| Não Respondeu|         Não Respondeu|     Não Respondeu|  Não Respondeu|         35|         SP|           3549904| São José dos Campos|                       482.6|                   478.4|                       576.2|             473.8|       500.0|             502.2|[478.399993896484...|\n",
      "|  2020|200001014854|         20 anos|             20| Feminino|         Solteiro(a)|        Parda|       Brasileiro(a)|Já concluí o Ensi...|           2018|Não respondeu| Não Respondeu|         Não Respondeu|     Não Respondeu|  Não Respondeu|         24|         RN|           2406106|            Jucurutu|                       422.7|                   395.7|                       436.2|             428.9|       560.0|             448.7|[395.700012207031...|\n",
      "|  2020|200001014889|Menor de 17 anos|             16| Feminino|       Não informado|        Parda|       Brasileiro(a)|Estou cursando e ...|  Não informado|      Pública| Não Respondeu|         Não Respondeu|     Não Respondeu|  Não Respondeu|         13|         AM|           1302603|              Manaus|                       503.2|                   550.0|                       540.8|             468.5|       320.0|             476.5|[550.0,540.799987...|\n",
      "|  2020|200001014926|         21 anos|             21| Feminino|         Solteiro(a)|Não declarado|       Brasileiro(a)|Já concluí o Ensi...|           2019|Não respondeu| Não Respondeu|         Não Respondeu|     Não Respondeu|  Não Respondeu|         15|         PA|           1503606|            Itaituba|                       470.6|                   392.4|                       558.3|             465.4|       460.0|            469.34|[392.399993896484...|\n",
      "+------+------------+----------------+---------------+---------+--------------------+-------------+--------------------+--------------------+---------------+-------------+--------------+----------------------+------------------+---------------+-----------+-----------+------------------+--------------------+----------------------------+------------------------+----------------------------+------------------+------------+------------------+--------------------+\n",
      "only showing top 20 rows\n",
      "\n"
     ]
    },
    {
     "name": "stderr",
     "output_type": "stream",
     "text": [
      "                                                                                \r"
     ]
    }
   ],
   "source": [
    "df.show()"
   ]
  },
  {
   "cell_type": "code",
   "execution_count": 5,
   "metadata": {},
   "outputs": [
    {
     "name": "stderr",
     "output_type": "stream",
     "text": [
      "23/06/10 16:56:08 WARN Instrumentation: [a0d8642e] regParam is zero, which might cause numerical instability and overfitting.\n",
      "23/06/10 16:56:10 WARN InstanceBuilder: Failed to load implementation from:dev.ludovic.netlib.blas.JNIBLAS\n",
      "23/06/10 16:56:10 WARN InstanceBuilder: Failed to load implementation from:dev.ludovic.netlib.blas.VectorBLAS\n",
      "23/06/10 16:56:11 WARN InstanceBuilder: Failed to load implementation from:dev.ludovic.netlib.lapack.JNILAPACK\n",
      "[Stage 34:>                                                         (0 + 1) / 1]\r"
     ]
    },
    {
     "name": "stdout",
     "output_type": "stream",
     "text": [
      "+----------------------------+-----------------+-----------------+------------------+\n",
      "|NOTA_CN_CIENCIAS_DA_NATUREZA|Linear Regression|    Decision Tree|     Random Forest|\n",
      "+----------------------------+-----------------+-----------------+------------------+\n",
      "|                       607.1|607.0999626637774|615.0572091725065| 608.8109228035678|\n",
      "|                       607.1|607.0999626637774|615.0572091725065| 611.2194083932978|\n",
      "|                       607.1|607.0999626637774|615.0572091725065| 608.8502278198961|\n",
      "|                       607.1|607.0999626637774|615.0572091725065|  616.878763796022|\n",
      "|                       607.1|607.0999626637774|615.0572091725065| 599.2841532149544|\n",
      "|                       607.1|607.0999626637774|615.0572091725065| 539.9509205585699|\n",
      "|                       607.1|607.0999626637774|615.0572091725065| 566.1729586801608|\n",
      "|                       607.1|607.0999626637774|615.0572091725065| 516.2101385738076|\n",
      "|                       607.1|607.0999626637774|615.0572091725065| 528.1664499690472|\n",
      "|                       607.1|607.0999626637774|615.0572091725065| 566.5853283348521|\n",
      "|                       607.1|607.0999626637774|615.0572091725065|508.27024071540063|\n",
      "|                       607.1|607.0999626637774|615.0572091725065| 608.8109228035678|\n",
      "|                       607.1|607.0999626637774|615.0572091725065| 611.2194083932978|\n",
      "|                       607.1|607.0999626637774|615.0572091725065| 608.8502278198961|\n",
      "|                       607.1|607.0999626637774|615.0572091725065|  616.878763796022|\n",
      "|                       607.1|607.0999626637774|615.0572091725065| 599.2841532149544|\n",
      "|                       607.1|607.0999626637774|615.0572091725065| 539.9509205585699|\n",
      "|                       607.1|607.0999626637774|615.0572091725065| 566.1729586801608|\n",
      "|                       607.1|607.0999626637774|615.0572091725065| 516.2101385738076|\n",
      "|                       607.1|607.0999626637774|615.0572091725065| 528.1664499690472|\n",
      "+----------------------------+-----------------+-----------------+------------------+\n",
      "only showing top 20 rows\n",
      "\n"
     ]
    },
    {
     "name": "stderr",
     "output_type": "stream",
     "text": [
      "                                                                                \r"
     ]
    }
   ],
   "source": [
    "# Split the data into training and testing sets\n",
    "train_data, test_data = df.randomSplit([0.8, 0.2], seed=42)\n",
    "\n",
    "# Linear Regression model\n",
    "linear_regression = LinearRegression(labelCol=\"NOTA_CN_CIENCIAS_DA_NATUREZA\")\n",
    "linear_regression_model = linear_regression.fit(train_data)\n",
    "\n",
    "# Decision Tree Regression model\n",
    "decision_tree = DecisionTreeRegressor(labelCol=\"NOTA_CN_CIENCIAS_DA_NATUREZA\")\n",
    "decision_tree_model = decision_tree.fit(train_data)\n",
    "\n",
    "# Random Forest Regression model\n",
    "random_forest = RandomForestRegressor(labelCol=\"NOTA_CN_CIENCIAS_DA_NATUREZA\")\n",
    "random_forest_model = random_forest.fit(train_data)\n",
    "\n",
    "# Make predictions\n",
    "linear_regression_predictions = linear_regression_model.transform(test_data)\n",
    "decision_tree_predictions = decision_tree_model.transform(test_data)\n",
    "random_forest_predictions = random_forest_model.transform(test_data)\n",
    "\n",
    "# Join the predictions of all models\n",
    "joined_predictions = linear_regression_predictions \\\n",
    "    .join(decision_tree_predictions, \"NOTA_CN_CIENCIAS_DA_NATUREZA\") \\\n",
    "    .join(random_forest_predictions, \"NOTA_CN_CIENCIAS_DA_NATUREZA\") \\\n",
    "    .select(\n",
    "        linear_regression_predictions[\"NOTA_CN_CIENCIAS_DA_NATUREZA\"],\n",
    "        linear_regression_predictions[\"prediction\"].alias(\"Linear Regression\"),\n",
    "        decision_tree_predictions[\"prediction\"].alias(\"Decision Tree\"),\n",
    "        random_forest_predictions[\"prediction\"].alias(\"Random Forest\")\n",
    "    )\n",
    "\n",
    "# Display the comparison table\n",
    "joined_predictions.show()"
   ]
  },
  {
   "cell_type": "code",
   "execution_count": 7,
   "metadata": {},
   "outputs": [
    {
     "ename": "ConnectionRefusedError",
     "evalue": "[Errno 111] Connection refused",
     "output_type": "error",
     "traceback": [
      "\u001b[0;31m---------------------------------------------------------------------------\u001b[0m",
      "\u001b[0;31mConnectionRefusedError\u001b[0m                    Traceback (most recent call last)",
      "Cell \u001b[0;32mIn[7], line 4\u001b[0m\n\u001b[1;32m      1\u001b[0m \u001b[39mimport\u001b[39;00m \u001b[39mmatplotlib\u001b[39;00m\u001b[39m.\u001b[39;00m\u001b[39mpyplot\u001b[39;00m \u001b[39mas\u001b[39;00m \u001b[39mplt\u001b[39;00m\n\u001b[1;32m      3\u001b[0m \u001b[39m# Order the joined DataFrame by NOTA_CN_CIENCIAS_DA_NATUREZA\u001b[39;00m\n\u001b[0;32m----> 4\u001b[0m ordered_predictions_pd \u001b[39m=\u001b[39m joined_predictions\u001b[39m.\u001b[39;49morderBy(\u001b[39m\"\u001b[39;49m\u001b[39mNOTA_CN_CIENCIAS_DA_NATUREZA\u001b[39;49m\u001b[39m\"\u001b[39;49m)\n\u001b[1;32m      5\u001b[0m ordered_predictions_pd \u001b[39m=\u001b[39m joined_predictions\u001b[39m.\u001b[39msample(\u001b[39mFalse\u001b[39;00m, \u001b[39m0.1\u001b[39m)\u001b[39m.\u001b[39mtoPandas()\n\u001b[1;32m      7\u001b[0m \u001b[39m# Create the line graph using matplotlib\u001b[39;00m\n",
      "File \u001b[0;32m~/.local/lib/python3.11/site-packages/pyspark/sql/dataframe.py:2593\u001b[0m, in \u001b[0;36mDataFrame.sort\u001b[0;34m(self, *cols, **kwargs)\u001b[0m\n\u001b[1;32m   2502\u001b[0m \u001b[39mdef\u001b[39;00m \u001b[39msort\u001b[39m(\n\u001b[1;32m   2503\u001b[0m     \u001b[39mself\u001b[39m, \u001b[39m*\u001b[39mcols: Union[\u001b[39mstr\u001b[39m, Column, List[Union[\u001b[39mstr\u001b[39m, Column]]], \u001b[39m*\u001b[39m\u001b[39m*\u001b[39mkwargs: Any\n\u001b[1;32m   2504\u001b[0m ) \u001b[39m-\u001b[39m\u001b[39m>\u001b[39m \u001b[39m\"\u001b[39m\u001b[39mDataFrame\u001b[39m\u001b[39m\"\u001b[39m:\n\u001b[1;32m   2505\u001b[0m \u001b[39m    \u001b[39m\u001b[39m\"\"\"Returns a new :class:`DataFrame` sorted by the specified column(s).\u001b[39;00m\n\u001b[1;32m   2506\u001b[0m \n\u001b[1;32m   2507\u001b[0m \u001b[39m    .. versionadded:: 1.3.0\u001b[39;00m\n\u001b[0;32m   (...)\u001b[0m\n\u001b[1;32m   2591\u001b[0m \u001b[39m    +---+-----+\u001b[39;00m\n\u001b[1;32m   2592\u001b[0m \u001b[39m    \"\"\"\u001b[39;00m\n\u001b[0;32m-> 2593\u001b[0m     jdf \u001b[39m=\u001b[39m \u001b[39mself\u001b[39m\u001b[39m.\u001b[39m_jdf\u001b[39m.\u001b[39msort(\u001b[39mself\u001b[39;49m\u001b[39m.\u001b[39;49m_sort_cols(cols, kwargs))\n\u001b[1;32m   2594\u001b[0m     \u001b[39mreturn\u001b[39;00m DataFrame(jdf, \u001b[39mself\u001b[39m\u001b[39m.\u001b[39msparkSession)\n",
      "File \u001b[0;32m~/.local/lib/python3.11/site-packages/pyspark/sql/dataframe.py:2627\u001b[0m, in \u001b[0;36mDataFrame._sort_cols\u001b[0;34m(self, cols, kwargs)\u001b[0m\n\u001b[1;32m   2625\u001b[0m \u001b[39mif\u001b[39;00m \u001b[39mlen\u001b[39m(cols) \u001b[39m==\u001b[39m \u001b[39m1\u001b[39m \u001b[39mand\u001b[39;00m \u001b[39misinstance\u001b[39m(cols[\u001b[39m0\u001b[39m], \u001b[39mlist\u001b[39m):\n\u001b[1;32m   2626\u001b[0m     cols \u001b[39m=\u001b[39m cols[\u001b[39m0\u001b[39m]\n\u001b[0;32m-> 2627\u001b[0m jcols \u001b[39m=\u001b[39m [_to_java_column(cast(\u001b[39m\"\u001b[39;49m\u001b[39mColumnOrName\u001b[39;49m\u001b[39m\"\u001b[39;49m, c)) \u001b[39mfor\u001b[39;49;00m c \u001b[39min\u001b[39;49;00m cols]\n\u001b[1;32m   2628\u001b[0m ascending \u001b[39m=\u001b[39m kwargs\u001b[39m.\u001b[39mget(\u001b[39m\"\u001b[39m\u001b[39mascending\u001b[39m\u001b[39m\"\u001b[39m, \u001b[39mTrue\u001b[39;00m)\n\u001b[1;32m   2629\u001b[0m \u001b[39mif\u001b[39;00m \u001b[39misinstance\u001b[39m(ascending, (\u001b[39mbool\u001b[39m, \u001b[39mint\u001b[39m)):\n",
      "File \u001b[0;32m~/.local/lib/python3.11/site-packages/pyspark/sql/dataframe.py:2627\u001b[0m, in \u001b[0;36m<listcomp>\u001b[0;34m(.0)\u001b[0m\n\u001b[1;32m   2625\u001b[0m \u001b[39mif\u001b[39;00m \u001b[39mlen\u001b[39m(cols) \u001b[39m==\u001b[39m \u001b[39m1\u001b[39m \u001b[39mand\u001b[39;00m \u001b[39misinstance\u001b[39m(cols[\u001b[39m0\u001b[39m], \u001b[39mlist\u001b[39m):\n\u001b[1;32m   2626\u001b[0m     cols \u001b[39m=\u001b[39m cols[\u001b[39m0\u001b[39m]\n\u001b[0;32m-> 2627\u001b[0m jcols \u001b[39m=\u001b[39m [_to_java_column(cast(\u001b[39m\"\u001b[39;49m\u001b[39mColumnOrName\u001b[39;49m\u001b[39m\"\u001b[39;49m, c)) \u001b[39mfor\u001b[39;00m c \u001b[39min\u001b[39;00m cols]\n\u001b[1;32m   2628\u001b[0m ascending \u001b[39m=\u001b[39m kwargs\u001b[39m.\u001b[39mget(\u001b[39m\"\u001b[39m\u001b[39mascending\u001b[39m\u001b[39m\"\u001b[39m, \u001b[39mTrue\u001b[39;00m)\n\u001b[1;32m   2629\u001b[0m \u001b[39mif\u001b[39;00m \u001b[39misinstance\u001b[39m(ascending, (\u001b[39mbool\u001b[39m, \u001b[39mint\u001b[39m)):\n",
      "File \u001b[0;32m~/.local/lib/python3.11/site-packages/pyspark/sql/column.py:63\u001b[0m, in \u001b[0;36m_to_java_column\u001b[0;34m(col)\u001b[0m\n\u001b[1;32m     61\u001b[0m     jcol \u001b[39m=\u001b[39m col\u001b[39m.\u001b[39m_jc\n\u001b[1;32m     62\u001b[0m \u001b[39melif\u001b[39;00m \u001b[39misinstance\u001b[39m(col, \u001b[39mstr\u001b[39m):\n\u001b[0;32m---> 63\u001b[0m     jcol \u001b[39m=\u001b[39m _create_column_from_name(col)\n\u001b[1;32m     64\u001b[0m \u001b[39melse\u001b[39;00m:\n\u001b[1;32m     65\u001b[0m     \u001b[39mraise\u001b[39;00m \u001b[39mTypeError\u001b[39;00m(\n\u001b[1;32m     66\u001b[0m         \u001b[39m\"\u001b[39m\u001b[39mInvalid argument, not a string or column: \u001b[39m\u001b[39m\"\u001b[39m\n\u001b[1;32m     67\u001b[0m         \u001b[39m\"\u001b[39m\u001b[39m{0}\u001b[39;00m\u001b[39m of type \u001b[39m\u001b[39m{1}\u001b[39;00m\u001b[39m. \u001b[39m\u001b[39m\"\u001b[39m\n\u001b[1;32m     68\u001b[0m         \u001b[39m\"\u001b[39m\u001b[39mFor column literals, use \u001b[39m\u001b[39m'\u001b[39m\u001b[39mlit\u001b[39m\u001b[39m'\u001b[39m\u001b[39m, \u001b[39m\u001b[39m'\u001b[39m\u001b[39marray\u001b[39m\u001b[39m'\u001b[39m\u001b[39m, \u001b[39m\u001b[39m'\u001b[39m\u001b[39mstruct\u001b[39m\u001b[39m'\u001b[39m\u001b[39m or \u001b[39m\u001b[39m'\u001b[39m\u001b[39mcreate_map\u001b[39m\u001b[39m'\u001b[39m\u001b[39m \u001b[39m\u001b[39m\"\u001b[39m\n\u001b[1;32m     69\u001b[0m         \u001b[39m\"\u001b[39m\u001b[39mfunction.\u001b[39m\u001b[39m\"\u001b[39m\u001b[39m.\u001b[39mformat(col, \u001b[39mtype\u001b[39m(col))\n\u001b[1;32m     70\u001b[0m     )\n",
      "File \u001b[0;32m~/.local/lib/python3.11/site-packages/pyspark/sql/column.py:56\u001b[0m, in \u001b[0;36m_create_column_from_name\u001b[0;34m(name)\u001b[0m\n\u001b[1;32m     54\u001b[0m \u001b[39mdef\u001b[39;00m \u001b[39m_create_column_from_name\u001b[39m(name: \u001b[39mstr\u001b[39m) \u001b[39m-\u001b[39m\u001b[39m>\u001b[39m \u001b[39m\"\u001b[39m\u001b[39mColumn\u001b[39m\u001b[39m\"\u001b[39m:\n\u001b[1;32m     55\u001b[0m     sc \u001b[39m=\u001b[39m get_active_spark_context()\n\u001b[0;32m---> 56\u001b[0m     \u001b[39mreturn\u001b[39;00m cast(JVMView, sc\u001b[39m.\u001b[39;49m_jvm)\u001b[39m.\u001b[39;49mfunctions\u001b[39m.\u001b[39mcol(name)\n",
      "File \u001b[0;32m~/.local/lib/python3.11/site-packages/py4j/java_gateway.py:1712\u001b[0m, in \u001b[0;36mJVMView.__getattr__\u001b[0;34m(self, name)\u001b[0m\n\u001b[1;32m   1709\u001b[0m \u001b[39mif\u001b[39;00m name \u001b[39m==\u001b[39m UserHelpAutoCompletion\u001b[39m.\u001b[39mKEY:\n\u001b[1;32m   1710\u001b[0m     \u001b[39mreturn\u001b[39;00m UserHelpAutoCompletion()\n\u001b[0;32m-> 1712\u001b[0m answer \u001b[39m=\u001b[39m \u001b[39mself\u001b[39;49m\u001b[39m.\u001b[39;49m_gateway_client\u001b[39m.\u001b[39;49msend_command(\n\u001b[1;32m   1713\u001b[0m     proto\u001b[39m.\u001b[39;49mREFLECTION_COMMAND_NAME \u001b[39m+\u001b[39;49m\n\u001b[1;32m   1714\u001b[0m     proto\u001b[39m.\u001b[39;49mREFL_GET_UNKNOWN_SUB_COMMAND_NAME \u001b[39m+\u001b[39;49m name \u001b[39m+\u001b[39;49m \u001b[39m\"\u001b[39;49m\u001b[39m\\n\u001b[39;49;00m\u001b[39m\"\u001b[39;49m \u001b[39m+\u001b[39;49m \u001b[39mself\u001b[39;49m\u001b[39m.\u001b[39;49m_id \u001b[39m+\u001b[39;49m\n\u001b[1;32m   1715\u001b[0m     \u001b[39m\"\u001b[39;49m\u001b[39m\\n\u001b[39;49;00m\u001b[39m\"\u001b[39;49m \u001b[39m+\u001b[39;49m proto\u001b[39m.\u001b[39;49mEND_COMMAND_PART)\n\u001b[1;32m   1716\u001b[0m \u001b[39mif\u001b[39;00m answer \u001b[39m==\u001b[39m proto\u001b[39m.\u001b[39mSUCCESS_PACKAGE:\n\u001b[1;32m   1717\u001b[0m     \u001b[39mreturn\u001b[39;00m JavaPackage(name, \u001b[39mself\u001b[39m\u001b[39m.\u001b[39m_gateway_client, jvm_id\u001b[39m=\u001b[39m\u001b[39mself\u001b[39m\u001b[39m.\u001b[39m_id)\n",
      "File \u001b[0;32m~/.local/lib/python3.11/site-packages/py4j/java_gateway.py:1036\u001b[0m, in \u001b[0;36mGatewayClient.send_command\u001b[0;34m(self, command, retry, binary)\u001b[0m\n\u001b[1;32m   1015\u001b[0m \u001b[39mdef\u001b[39;00m \u001b[39msend_command\u001b[39m(\u001b[39mself\u001b[39m, command, retry\u001b[39m=\u001b[39m\u001b[39mTrue\u001b[39;00m, binary\u001b[39m=\u001b[39m\u001b[39mFalse\u001b[39;00m):\n\u001b[1;32m   1016\u001b[0m \u001b[39m    \u001b[39m\u001b[39m\"\"\"Sends a command to the JVM. This method is not intended to be\u001b[39;00m\n\u001b[1;32m   1017\u001b[0m \u001b[39m       called directly by Py4J users. It is usually called by\u001b[39;00m\n\u001b[1;32m   1018\u001b[0m \u001b[39m       :class:`JavaMember` instances.\u001b[39;00m\n\u001b[0;32m   (...)\u001b[0m\n\u001b[1;32m   1034\u001b[0m \u001b[39m     if `binary` is `True`.\u001b[39;00m\n\u001b[1;32m   1035\u001b[0m \u001b[39m    \"\"\"\u001b[39;00m\n\u001b[0;32m-> 1036\u001b[0m     connection \u001b[39m=\u001b[39m \u001b[39mself\u001b[39;49m\u001b[39m.\u001b[39;49m_get_connection()\n\u001b[1;32m   1037\u001b[0m     \u001b[39mtry\u001b[39;00m:\n\u001b[1;32m   1038\u001b[0m         response \u001b[39m=\u001b[39m connection\u001b[39m.\u001b[39msend_command(command)\n",
      "File \u001b[0;32m~/.local/lib/python3.11/site-packages/py4j/clientserver.py:284\u001b[0m, in \u001b[0;36mJavaClient._get_connection\u001b[0;34m(self)\u001b[0m\n\u001b[1;32m    281\u001b[0m     \u001b[39mpass\u001b[39;00m\n\u001b[1;32m    283\u001b[0m \u001b[39mif\u001b[39;00m connection \u001b[39mis\u001b[39;00m \u001b[39mNone\u001b[39;00m \u001b[39mor\u001b[39;00m connection\u001b[39m.\u001b[39msocket \u001b[39mis\u001b[39;00m \u001b[39mNone\u001b[39;00m:\n\u001b[0;32m--> 284\u001b[0m     connection \u001b[39m=\u001b[39m \u001b[39mself\u001b[39;49m\u001b[39m.\u001b[39;49m_create_new_connection()\n\u001b[1;32m    285\u001b[0m \u001b[39mreturn\u001b[39;00m connection\n",
      "File \u001b[0;32m~/.local/lib/python3.11/site-packages/py4j/clientserver.py:291\u001b[0m, in \u001b[0;36mJavaClient._create_new_connection\u001b[0;34m(self)\u001b[0m\n\u001b[1;32m    287\u001b[0m \u001b[39mdef\u001b[39;00m \u001b[39m_create_new_connection\u001b[39m(\u001b[39mself\u001b[39m):\n\u001b[1;32m    288\u001b[0m     connection \u001b[39m=\u001b[39m ClientServerConnection(\n\u001b[1;32m    289\u001b[0m         \u001b[39mself\u001b[39m\u001b[39m.\u001b[39mjava_parameters, \u001b[39mself\u001b[39m\u001b[39m.\u001b[39mpython_parameters,\n\u001b[1;32m    290\u001b[0m         \u001b[39mself\u001b[39m\u001b[39m.\u001b[39mgateway_property, \u001b[39mself\u001b[39m)\n\u001b[0;32m--> 291\u001b[0m     connection\u001b[39m.\u001b[39;49mconnect_to_java_server()\n\u001b[1;32m    292\u001b[0m     \u001b[39mself\u001b[39m\u001b[39m.\u001b[39mset_thread_connection(connection)\n\u001b[1;32m    293\u001b[0m     \u001b[39mreturn\u001b[39;00m connection\n",
      "File \u001b[0;32m~/.local/lib/python3.11/site-packages/py4j/clientserver.py:438\u001b[0m, in \u001b[0;36mClientServerConnection.connect_to_java_server\u001b[0;34m(self)\u001b[0m\n\u001b[1;32m    435\u001b[0m \u001b[39mif\u001b[39;00m \u001b[39mself\u001b[39m\u001b[39m.\u001b[39mssl_context:\n\u001b[1;32m    436\u001b[0m     \u001b[39mself\u001b[39m\u001b[39m.\u001b[39msocket \u001b[39m=\u001b[39m \u001b[39mself\u001b[39m\u001b[39m.\u001b[39mssl_context\u001b[39m.\u001b[39mwrap_socket(\n\u001b[1;32m    437\u001b[0m         \u001b[39mself\u001b[39m\u001b[39m.\u001b[39msocket, server_hostname\u001b[39m=\u001b[39m\u001b[39mself\u001b[39m\u001b[39m.\u001b[39mjava_address)\n\u001b[0;32m--> 438\u001b[0m \u001b[39mself\u001b[39;49m\u001b[39m.\u001b[39;49msocket\u001b[39m.\u001b[39;49mconnect((\u001b[39mself\u001b[39;49m\u001b[39m.\u001b[39;49mjava_address, \u001b[39mself\u001b[39;49m\u001b[39m.\u001b[39;49mjava_port))\n\u001b[1;32m    439\u001b[0m \u001b[39mself\u001b[39m\u001b[39m.\u001b[39mstream \u001b[39m=\u001b[39m \u001b[39mself\u001b[39m\u001b[39m.\u001b[39msocket\u001b[39m.\u001b[39mmakefile(\u001b[39m\"\u001b[39m\u001b[39mrb\u001b[39m\u001b[39m\"\u001b[39m)\n\u001b[1;32m    440\u001b[0m \u001b[39mself\u001b[39m\u001b[39m.\u001b[39mis_connected \u001b[39m=\u001b[39m \u001b[39mTrue\u001b[39;00m\n",
      "\u001b[0;31mConnectionRefusedError\u001b[0m: [Errno 111] Connection refused"
     ]
    }
   ],
   "source": [
    "import matplotlib.pyplot as plt\n",
    "\n",
    "# Order the joined DataFrame by NOTA_CN_CIENCIAS_DA_NATUREZA\n",
    "ordered_predictions_pd = joined_predictions.orderBy(\"NOTA_CN_CIENCIAS_DA_NATUREZA\")\n",
    "ordered_predictions_pd = joined_predictions.sample(False, 0.1).toPandas()\n",
    "\n",
    "# Create the line graph using matplotlib\n",
    "plt.figure(figsize=(10, 6))\n",
    "plt.plot(ordered_predictions_pd[\"NOTA_CN_CIENCIAS_DA_NATUREZA\"], ordered_predictions_pd[\"Linear Regression\"], color=\"red\", label=\"Linear Regression\")\n",
    "plt.plot(ordered_predictions_pd[\"NOTA_CN_CIENCIAS_DA_NATUREZA\"], ordered_predictions_pd[\"Decision Tree\"], color=\"blue\", label=\"Decision Tree\")\n",
    "plt.plot(ordered_predictions_pd[\"NOTA_CN_CIENCIAS_DA_NATUREZA\"], ordered_predictions_pd[\"Random Forest\"], color=\"green\", label=\"Random Forest\")\n",
    "plt.xlabel(\"Actual Values\")\n",
    "plt.ylabel(\"Predicted Values\")\n",
    "plt.title(\"Comparison of Predicted Grades from Different Models\")\n",
    "plt.legend()\n",
    "plt.show()\n"
   ]
  }
 ],
 "metadata": {
  "kernelspec": {
   "display_name": "Python 3",
   "language": "python",
   "name": "python3"
  },
  "language_info": {
   "codemirror_mode": {
    "name": "ipython",
    "version": 3
   },
   "file_extension": ".py",
   "mimetype": "text/x-python",
   "name": "python",
   "nbconvert_exporter": "python",
   "pygments_lexer": "ipython3",
   "version": "3.11.3"
  },
  "orig_nbformat": 4
 },
 "nbformat": 4,
 "nbformat_minor": 2
}
