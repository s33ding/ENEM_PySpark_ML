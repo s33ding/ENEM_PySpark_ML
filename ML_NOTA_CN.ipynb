{
 "cells": [
  {
   "cell_type": "code",
   "execution_count": 43,
   "metadata": {},
   "outputs": [],
   "source": [
    "from pyspark.sql.types import *\n",
    "import pandas as pd\n",
    "import pyspark \n",
    "import os \n",
    "from pyspark.sql import SparkSession\n",
    "from pyspark.sql.functions import regexp_replace, col, sum as spark_sum\n",
    "from pyspark.sql import functions as F\n",
    "import matplotlib.pyplot as plt\n",
    "import seaborn as sns\n",
    "\n",
    "from pyspark.ml.feature import VectorAssembler\n",
    "from pyspark.ml.regression import LinearRegression, DecisionTreeRegressor, RandomForestRegressor\n",
    "from pyspark.ml.evaluation import RegressionEvaluator\n"
   ]
  },
  {
   "cell_type": "code",
   "execution_count": 44,
   "metadata": {},
   "outputs": [],
   "source": [
    "# Start a Spark session\n",
    "spark = SparkSession.builder.appName(\"s33ding\").getOrCreate()\n",
    "\n",
    "# Read the Parquet file into a DataFrame\n",
    "df = spark.read.parquet(\"dataset/enem.parquet\")"
   ]
  },
  {
   "cell_type": "code",
   "execution_count": 50,
   "metadata": {},
   "outputs": [
    {
     "name": "stderr",
     "output_type": "stream",
     "text": [
      "23/06/12 02:35:00 WARN Instrumentation: [6c758799] regParam is zero, which might cause numerical instability and overfitting.\n",
      "                                                                                \r"
     ]
    }
   ],
   "source": [
    "# Select the relevant columns\n",
    "selected_cols = [\"NOTA_CH_CIENCIAS_HUMANAS\", \"NOTA_LC_LINGUAGENS_E_CODIGOS\", \"NOTA_MT_MATEMATICA\", \"NOTA_REDACAO\"]\n",
    "df_selected = df.select(selected_cols)\n",
    "\n",
    "# Handle missing or null values (if any)\n",
    "df_selected = df_selected.na.drop()\n",
    "\n",
    "# Split the dataset into training and testing sets\n",
    "train_data, test_data = df_selected.randomSplit([0.8, 0.2], seed=42)\n",
    "\n",
    "# Prepare the feature vector and the target column\n",
    "assembler = VectorAssembler(inputCols=[\"NOTA_LC_LINGUAGENS_E_CODIGOS\", \"NOTA_MT_MATEMATICA\", \"NOTA_REDACAO\"], outputCol=\"features\")\n",
    "train_data = assembler.transform(train_data).select(\"features\", \"NOTA_CH_CIENCIAS_HUMANAS\")\n",
    "test_data = assembler.transform(test_data).select(\"features\", \"NOTA_CH_CIENCIAS_HUMANAS\")\n",
    "\n",
    "# Train the machine learning models\n",
    "lr = LinearRegression(labelCol=\"NOTA_CH_CIENCIAS_HUMANAS\")\n",
    "lr_model = lr.fit(train_data)\n",
    "\n",
    "dt = DecisionTreeRegressor(labelCol=\"NOTA_CH_CIENCIAS_HUMANAS\")\n",
    "dt_model = dt.fit(train_data)\n",
    "\n",
    "rf = RandomForestRegressor(labelCol=\"NOTA_CH_CIENCIAS_HUMANAS\")\n",
    "rf_model = rf.fit(train_data)\n",
    "\n",
    "# Make predictions using the trained models\n",
    "lr_predictions = lr_model.transform(test_data)\n",
    "dt_predictions = dt_model.transform(test_data)\n",
    "rf_predictions = rf_model.transform(test_data)"
   ]
  },
  {
   "cell_type": "code",
   "execution_count": 53,
   "metadata": {},
   "outputs": [
    {
     "name": "stderr",
     "output_type": "stream",
     "text": [
      "                                                                                \r"
     ]
    },
    {
     "name": "stdout",
     "output_type": "stream",
     "text": [
      "+--------------------+------------------------+------------------+------------------+------------------+\n",
      "|            features|NOTA_CH_CIENCIAS_HUMANAS|        prediction|     dt_prediction|     rf_prediction|\n",
      "+--------------------+------------------------+------------------+------------------+------------------+\n",
      "|[438.600006103515...|                   312.0| 427.2173158397308|431.31284618680303| 433.4427031739048|\n",
      "|[402.600006103515...|                   315.8|441.09851806307626|431.31284618680303|452.26744537016594|\n",
      "|[403.0,470.700012...|                   318.9| 433.0226707416916|431.31284618680303| 448.4609288775179|\n",
      "|[397.799987792968...|                   322.7|  427.406093463856|431.31284618680303| 445.1902182127048|\n",
      "|[393.799987792968...|                   324.9| 399.7897680506144|431.31284618680303|428.91260725591854|\n",
      "|[431.600006103515...|                   326.7|  425.010834104182|431.31284618680303|  434.390219283859|\n",
      "|[342.5,395.299987...|                   328.4| 372.8469819254265|416.30893556948536| 431.3982475296333|\n",
      "|[501.899993896484...|                   328.4| 513.5087303966709| 484.9040932360466|504.95880284337716|\n",
      "|[446.700012207031...|                   328.7|437.56689208075176| 446.0225395102981| 438.7739098529781|\n",
      "|[447.100006103515...|                   328.7|413.89810897984967| 446.0225395102981| 432.0928083669818|\n",
      "|[471.399993896484...|                   328.8| 442.9346171317655| 446.0225395102981|442.13636725643556|\n",
      "|[310.5,332.299987...|                   328.9| 341.0836262544552|416.30893556948536| 431.3032270521371|\n",
      "|[340.600006103515...|                   328.9|384.62735103448233|416.30893556948536|440.65854343848287|\n",
      "|[423.799987792968...|                   328.9| 425.3657355724521|431.31284618680303|  434.390219283859|\n",
      "|[491.5,418.399993...|                   328.9|473.49923884750854|468.03850572822375|459.61901555230907|\n",
      "|[330.399993896484...|                   329.1| 352.3218540047437|416.30893556948536| 427.5627124489955|\n",
      "|[505.100006103515...|                   329.1| 494.9712463919602| 484.9040932360466|474.61581629432555|\n",
      "|[457.899993896484...|                   329.5|462.70263915682193|462.63096060136036|456.99189112271944|\n",
      "|[455.200012207031...|                   329.7|440.93876196924106| 446.0225395102981|442.48782984259026|\n",
      "|[361.899993896484...|                   329.8| 388.8278840103326|416.30893556948536| 437.6687838743452|\n",
      "+--------------------+------------------------+------------------+------------------+------------------+\n",
      "only showing top 20 rows\n",
      "\n"
     ]
    }
   ],
   "source": [
    "# Create temporary views for the predictions\n",
    "lr_predictions.createOrReplaceTempView(\"lr_predictions\")\n",
    "dt_predictions.createOrReplaceTempView(\"dt_predictions\")\n",
    "rf_predictions.createOrReplaceTempView(\"rf_predictions\")\n",
    "\n",
    "# Join the prediction views\n",
    "joined_predictions = spark.sql(\"\"\"\n",
    "    SELECT lr_predictions.*, dt_predictions.prediction AS dt_prediction, rf_predictions.prediction AS rf_prediction\n",
    "    FROM lr_predictions\n",
    "    JOIN dt_predictions ON lr_predictions.features = dt_predictions.features\n",
    "    JOIN rf_predictions ON lr_predictions.features = rf_predictions.features\n",
    "\"\"\")\n",
    "\n",
    "# Show the joined predictions\n",
    "joined_predictions.show()\n"
   ]
  },
  {
   "cell_type": "code",
   "execution_count": 61,
   "metadata": {},
   "outputs": [
    {
     "name": "stderr",
     "output_type": "stream",
     "text": [
      "[Stage 125:============================>                            (1 + 1) / 2]\r"
     ]
    },
    {
     "name": "stdout",
     "output_type": "stream",
     "text": [
      "Linear Regression - MSE: 3486.2284549459614\n",
      "Decision Tree Regression - MSE: 3570.4170485784316\n",
      "Random Forest Regression - MSE: 3525.2685756522715\n",
      "Linear Regression - MAE: 46.53917523663759\n",
      "Decision Tree Regression - MAE: 47.47608486753266\n",
      "Random Forest Regression - MAE: 47.557332279815576\n"
     ]
    },
    {
     "name": "stderr",
     "output_type": "stream",
     "text": [
      "                                                                                \r"
     ]
    }
   ],
   "source": [
    "from pyspark.ml.evaluation import RegressionEvaluator\n",
    "\n",
    "# Define the evaluator\n",
    "evaluator = RegressionEvaluator(labelCol=\"NOTA_CH_CIENCIAS_HUMANAS\", predictionCol=\"prediction\")\n",
    "\n",
    "# Calculate MSE for linear regression\n",
    "lr_mse = evaluator.evaluate(lr_predictions, {evaluator.metricName: \"mse\"})\n",
    "\n",
    "# Calculate MSE for decision tree regression\n",
    "dt_mse = evaluator.evaluate(dt_predictions, {evaluator.metricName: \"mse\"})\n",
    "\n",
    "# Calculate MSE for random forest regression\n",
    "rf_mse = evaluator.evaluate(rf_predictions, {evaluator.metricName: \"mse\"})\n",
    "\n",
    "# Calculate MAE for linear regression\n",
    "lr_mae = evaluator.evaluate(lr_predictions, {evaluator.metricName: \"mae\"})\n",
    "\n",
    "# Calculate MAE for decision tree regression\n",
    "dt_mae = evaluator.evaluate(dt_predictions, {evaluator.metricName: \"mae\"})\n",
    "\n",
    "# Calculate MAE for random forest regression\n",
    "rf_mae = evaluator.evaluate(rf_predictions, {evaluator.metricName: \"mae\"})\n",
    "\n",
    "# Print the MSE and MAE values for comparison\n",
    "print(\"Linear Regression - MSE:\", lr_mse)\n",
    "print(\"Decision Tree Regression - MSE:\", dt_mse)\n",
    "print(\"Random Forest Regression - MSE:\", rf_mse)\n",
    "print(\"Linear Regression - MAE:\", lr_mae)\n",
    "print(\"Decision Tree Regression - MAE:\", dt_mae)\n",
    "print(\"Random Forest Regression - MAE:\", rf_mae)\n"
   ]
  },
  {
   "cell_type": "code",
   "execution_count": 63,
   "metadata": {},
   "outputs": [],
   "source": [
    "# Specify the path to save the model\n",
    "model_path = \"models/linear_regression_model\"\n",
    "\n",
    "# Save the Linear Regression model\n",
    "lr_model.save(model_path)"
   ]
  }
 ],
 "metadata": {
  "kernelspec": {
   "display_name": "Python 3",
   "language": "python",
   "name": "python3"
  },
  "language_info": {
   "codemirror_mode": {
    "name": "ipython",
    "version": 3
   },
   "file_extension": ".py",
   "mimetype": "text/x-python",
   "name": "python",
   "nbconvert_exporter": "python",
   "pygments_lexer": "ipython3",
   "version": "3.11.3"
  },
  "orig_nbformat": 4
 },
 "nbformat": 4,
 "nbformat_minor": 2
}
