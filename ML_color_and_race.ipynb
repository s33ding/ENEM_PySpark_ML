{
 "cells": [
  {
   "cell_type": "code",
   "execution_count": 321,
   "metadata": {},
   "outputs": [],
   "source": [
    "from pyspark.sql.types import *\n",
    "import pandas as pd\n",
    "import pyspark \n",
    "import os \n",
    "from pyspark.sql import SparkSession\n",
    "from pyspark.sql.functions import regexp_replace, col, udf, rank, asc, sum as spark_sum\n",
    "from pyspark.sql import functions as F\n",
    "import matplotlib.pyplot as plt\n",
    "import seaborn as sns\n",
    "from pyspark.sql.window import Window\n",
    "\n",
    "from pyspark.sql import SparkSession\n",
    "from pyspark.ml.feature import StringIndexer, VectorAssembler\n",
    "from pyspark.ml.classification import RandomForestClassifier, LogisticRegression, GBTClassifier\n",
    "from pyspark.ml import Pipeline\n"
   ]
  },
  {
   "cell_type": "code",
   "execution_count": 338,
   "metadata": {},
   "outputs": [
    {
     "name": "stdout",
     "output_type": "stream",
     "text": [
      "+------+------------+----------------+---------------+---------+--------------------+-------------+--------------------+--------------------+---------------+-------------+--------------+----------------------+------------------+---------------+-----------+-----------+------------------+--------------------+----------------------------+------------------------+----------------------------+------------------+------------+------------------+\n",
      "|NU_ANO|NU_INSCRICAO| TP_FAIXA_ETARIA|Idade_Calculada|  TP_SEXO|     TP_ESTADO_CIVIL|  TP_COR_RACA|    TP_NACIONALIDADE|     TP_ST_CONCLUSAO|TP_ANO_CONCLUIU|    TP_ESCOLA|     TP_ENSINO|TP_DEPENDENCIA_ADM_ESC|TP_LOCALIZACAO_ESC|TP_SIT_FUNC_ESC|CO_UF_PROVA|SG_UF_PROVA|CO_MUNICIPIO_PROVA|  NO_MUNICIPIO_PROVA|NOTA_CN_CIENCIAS_DA_NATUREZA|NOTA_CH_CIENCIAS_HUMANAS|NOTA_LC_LINGUAGENS_E_CODIGOS|NOTA_MT_MATEMATICA|NOTA_REDACAO|NOTA_MEDIA_5_NOTAS|\n",
      "+------+------------+----------------+---------------+---------+--------------------+-------------+--------------------+--------------------+---------------+-------------+--------------+----------------------+------------------+---------------+-----------+-----------+------------------+--------------------+----------------------------+------------------------+----------------------------+------------------+------------+------------------+\n",
      "|  2020|200001014231|         21 anos|             21| Feminino|         Solteiro(a)|        Parda|Brasileiro(a) Nat...|Já concluí o Ensi...|  Não informado|Não respondeu| Não Respondeu|         Não Respondeu|     Não Respondeu|  Não Respondeu|         15|         PA|           1502202|            Capanema|                       411.3|                   478.4|                       426.8|             351.2|       380.0|            409.54|\n",
      "|  2020|200001014264|         19 anos|             19|Masculino|         Solteiro(a)|        Parda|       Brasileiro(a)|Já concluí o Ensi...|           2019|Não respondeu| Não Respondeu|         Não Respondeu|     Não Respondeu|  Não Respondeu|         29|         BA|           2928000|            Santaluz|                       440.0|                   459.3|                       571.7|             467.0|       900.0|             567.6|\n",
      "|  2020|200001014273|         18 anos|             18| Feminino|         Solteiro(a)|       Branca|       Brasileiro(a)|Estou cursando e ...|  Não informado|      Pública|Ensino Regular|              Estadual|            Urbana|   Em atividade|         31|         MG|           3169901|                 Ubá|                       607.1|                   435.7|                       568.2|             414.7|       960.0|            597.14|\n",
      "|  2020|200001014279|         19 anos|             19| Feminino|         Solteiro(a)|       Branca|       Brasileiro(a)|Já concluí o Ensi...|           2018|Não respondeu| Não Respondeu|         Não Respondeu|     Não Respondeu|  Não Respondeu|         51|         MT|           5107958|    Tangará da Serra|                       461.7|                   429.1|                       541.1|             523.7|       600.0|            511.12|\n",
      "|  2020|200001014312|         19 anos|             19| Feminino|         Solteiro(a)|        Parda|       Brasileiro(a)|Já concluí o Ensi...|           2019|Não respondeu| Não Respondeu|         Não Respondeu|     Não Respondeu|  Não Respondeu|         27|         AL|           2704302|              Maceió|                       412.8|                   347.8|                       413.4|             363.8|       340.0|            375.56|\n",
      "|  2020|200001014352|         20 anos|             20| Feminino|         Solteiro(a)|        Parda|       Brasileiro(a)|Já concluí o Ensi...|           2017|Não respondeu| Não Respondeu|         Não Respondeu|     Não Respondeu|  Não Respondeu|         29|         BA|           2910800|    Feira de Santana|                       588.6|                   647.0|                       636.9|             739.8|       960.0|            714.46|\n",
      "|  2020|200001014422|         17 anos|             17|Masculino|         Solteiro(a)|        Parda|       Brasileiro(a)|Estou cursando e ...|  Não informado|      Privada|Ensino Regular|               Privada|            Urbana|   Em atividade|         15|         PA|           1501402|               Belém|                       649.5|                   703.1|                       636.1|             780.3|       960.0|             745.8|\n",
      "|  2020|200001014460|Menor de 17 anos|             16|Masculino|         Solteiro(a)|        Parda|       Brasileiro(a)|Já concluí o Ensi...|           2010|Não respondeu| Não Respondeu|         Não Respondeu|     Não Respondeu|  Não Respondeu|         16|         AP|           1600303|              Macapá|                       580.9|                   624.9|                       553.0|             549.5|       620.0|            585.66|\n",
      "|  2020|200001014482|         22 anos|             22| Feminino|Casado(a)/Mora co...|        Parda|       Brasileiro(a)|Já concluí o Ensi...|           2015|Não respondeu| Não Respondeu|         Não Respondeu|     Não Respondeu|  Não Respondeu|         35|         SP|           3554300|     Teodoro Sampaio|                       554.2|                   558.6|                       534.4|             429.2|       540.0|            523.28|\n",
      "|  2020|200001014566|         18 anos|             18|Masculino|         Solteiro(a)|        Parda|       Brasileiro(a)|Estou cursando e ...|  Não informado|      Privada|Ensino Regular|               Privada|            Urbana|   Em atividade|         28|         SE|           2800308|             Aracaju|                       662.6|                   703.0|                       610.5|             707.6|       840.0|            704.74|\n",
      "|  2020|200001014626|         18 anos|             18| Feminino|         Solteiro(a)|        Parda|       Brasileiro(a)|Estou cursando e ...|  Não informado|      Pública|Ensino Regular|              Estadual|            Urbana|   Em atividade|         23|         CE|           2309805|              Pacoti|                       434.7|                   495.7|                       470.6|             469.6|       820.0|            538.12|\n",
      "|  2020|200001014639|         21 anos|             21|Masculino|         Solteiro(a)|        Parda|       Brasileiro(a)|Já concluí o Ensi...|           2017|Não respondeu| Não Respondeu|         Não Respondeu|     Não Respondeu|  Não Respondeu|         29|         BA|           2910800|    Feira de Santana|                       441.3|                   506.0|                       548.2|             492.6|       600.0|            517.62|\n",
      "|  2020|200001014750|         19 anos|             19| Feminino|         Solteiro(a)|       Branca|       Brasileiro(a)|Já concluí o Ensi...|           2019|Não respondeu| Não Respondeu|         Não Respondeu|     Não Respondeu|  Não Respondeu|         29|         BA|           2928109|Santa Maria da Vi...|                       444.5|                   357.0|                       377.0|             480.7|       480.0|            427.84|\n",
      "|  2020|200001014760|         21 anos|             21|Masculino|         Solteiro(a)|       Branca|       Brasileiro(a)|Já concluí o Ensi...|  Não informado|Não respondeu| Não Respondeu|         Não Respondeu|     Não Respondeu|  Não Respondeu|         33|         RJ|           3304557|      Rio de Janeiro|                       502.8|                   483.5|                       503.6|             612.1|       320.0|             484.4|\n",
      "|  2020|200001014783|Menor de 17 anos|             16| Feminino|       Não informado|      Amarela|       Brasileiro(a)|Já concluí o Ensi...|  Não informado|Não respondeu| Não Respondeu|         Não Respondeu|     Não Respondeu|  Não Respondeu|         35|         SP|           3547809|         Santo André|                       555.2|                   425.9|                       549.6|             631.8|       520.0|             536.5|\n",
      "|  2020|200001014807|         17 anos|             17| Feminino|         Solteiro(a)|        Parda|       Brasileiro(a)|Estou cursando e ...|  Não informado|      Privada|Ensino Regular|               Privada|            Urbana|   Em atividade|         23|         CE|           2304400|           Fortaleza|                       586.8|                   572.9|                       603.7|             653.0|       840.0|            651.28|\n",
      "|  2020|200001014831|Menor de 17 anos|             16| Feminino|         Solteiro(a)|       Branca|       Brasileiro(a)|Já concluí o Ensi...|           2011|Não respondeu| Não Respondeu|         Não Respondeu|     Não Respondeu|  Não Respondeu|         35|         SP|           3549904| São José dos Campos|                       482.6|                   478.4|                       576.2|             473.8|       500.0|             502.2|\n",
      "|  2020|200001014854|         20 anos|             20| Feminino|         Solteiro(a)|        Parda|       Brasileiro(a)|Já concluí o Ensi...|           2018|Não respondeu| Não Respondeu|         Não Respondeu|     Não Respondeu|  Não Respondeu|         24|         RN|           2406106|            Jucurutu|                       422.7|                   395.7|                       436.2|             428.9|       560.0|             448.7|\n",
      "|  2020|200001014889|Menor de 17 anos|             16| Feminino|       Não informado|        Parda|       Brasileiro(a)|Estou cursando e ...|  Não informado|      Pública| Não Respondeu|         Não Respondeu|     Não Respondeu|  Não Respondeu|         13|         AM|           1302603|              Manaus|                       503.2|                   550.0|                       540.8|             468.5|       320.0|             476.5|\n",
      "|  2020|200001014926|         21 anos|             21| Feminino|         Solteiro(a)|Não declarado|       Brasileiro(a)|Já concluí o Ensi...|           2019|Não respondeu| Não Respondeu|         Não Respondeu|     Não Respondeu|  Não Respondeu|         15|         PA|           1503606|            Itaituba|                       470.6|                   392.4|                       558.3|             465.4|       460.0|            469.34|\n",
      "+------+------------+----------------+---------------+---------+--------------------+-------------+--------------------+--------------------+---------------+-------------+--------------+----------------------+------------------+---------------+-----------+-----------+------------------+--------------------+----------------------------+------------------------+----------------------------+------------------+------------+------------------+\n",
      "only showing top 20 rows\n",
      "\n"
     ]
    }
   ],
   "source": [
    "# Start a Spark session\n",
    "spark = SparkSession.builder.appName(\"s33ding\").getOrCreate()\n",
    "\n",
    "# Read the Parquet file into a DataFrame\n",
    "df = spark.read.parquet(\"dataset/enem.parquet\")\n",
    "df.dtypes\n",
    "df.show()"
   ]
  },
  {
   "cell_type": "code",
   "execution_count": 339,
   "metadata": {},
   "outputs": [],
   "source": [
    "from pyspark.ml.feature import StringIndexer\n",
    "from pyspark.ml.classification import RandomForestClassifier\n",
    "from pyspark.ml.evaluation import MulticlassClassificationEvaluator\n",
    "from pyspark.ml import Pipeline\n",
    "from pyspark.sql.functions import col, when\n",
    "\n",
    "# Calculate mean, lowest, and highest values of \"NOTA_MEDIA_5_NOTAS\" column\n",
    "mean_value = df.agg({\"NOTA_MEDIA_5_NOTAS\": \"mean\"}).collect()[0][0]\n",
    "lowest_value = df.agg({\"NOTA_MEDIA_5_NOTAS\": \"min\"}).collect()[0][0]\n",
    "highest_value = df.agg({\"NOTA_MEDIA_5_NOTAS\": \"max\"}).collect()[0][0]\n",
    "\n",
    "# Create a column with categorized values based on mean, lowest, and highest values\n",
    "df = df.withColumn(\n",
    "    \"NOTA_MEDIA_5_NOTAS\",\n",
    "    when(col(\"NOTA_MEDIA_5_NOTAS\") < lowest_value, \"low\")\n",
    "    .when(col(\"NOTA_MEDIA_5_NOTAS\") < mean_value, \"medium_low\")\n",
    "    .when(col(\"NOTA_MEDIA_5_NOTAS\") < highest_value, \"medium_high\")\n",
    "    .otherwise(\"high\")\n",
    ")\n",
    "\n",
    "lst_cols = ['NOTA_MEDIA_5_NOTAS', 'TP_FAIXA_ETARIA','CO_UF_PROVA', 'TP_COR_RACA', 'TP_ESCOLA', 'TP_DEPENDENCIA_ADM_ESC', 'TP_LOCALIZACAO_ESC']\n",
    "df = df.select(*lst_cols)\n",
    "\n",
    "drop_values = ['Não informado', 'Não respondeu']\n",
    "\n",
    "# Loop through each column and drop rows with specific values\n",
    "for column in df.columns:\n",
    "    if column != 'TP_COR_RACA':\n",
    "        df = df.filter(~col(column).isin(drop_values))"
   ]
  },
  {
   "cell_type": "code",
   "execution_count": 340,
   "metadata": {},
   "outputs": [
    {
     "ename": "IllegalArgumentException",
     "evalue": "features does not exist. Available: NOTA_MEDIA_5_NOTAS, TP_FAIXA_ETARIA, CO_UF_PROVA, TP_COR_RACA, TP_ESCOLA, TP_DEPENDENCIA_ADM_ESC, TP_LOCALIZACAO_ESC, TP_COR_RACA_index",
     "output_type": "error",
     "traceback": [
      "\u001b[0;31m---------------------------------------------------------------------------\u001b[0m",
      "\u001b[0;31mIllegalArgumentException\u001b[0m                  Traceback (most recent call last)",
      "Cell \u001b[0;32mIn[340], line 24\u001b[0m\n\u001b[1;32m     22\u001b[0m \u001b[39m# Compute the chi-square statistics for feature selection\u001b[39;00m\n\u001b[1;32m     23\u001b[0m selector \u001b[39m=\u001b[39m ChiSqSelector(numTopFeatures\u001b[39m=\u001b[39m\u001b[39m3\u001b[39m, featuresCol\u001b[39m=\u001b[39m\u001b[39m'\u001b[39m\u001b[39mfeatures\u001b[39m\u001b[39m'\u001b[39m, outputCol\u001b[39m=\u001b[39m\u001b[39m'\u001b[39m\u001b[39mselected_features\u001b[39m\u001b[39m'\u001b[39m, labelCol\u001b[39m=\u001b[39m\u001b[39m'\u001b[39m\u001b[39mTP_COR_RACA_index\u001b[39m\u001b[39m'\u001b[39m)\n\u001b[0;32m---> 24\u001b[0m selector_model \u001b[39m=\u001b[39m selector\u001b[39m.\u001b[39;49mfit(selected_df)\n\u001b[1;32m     25\u001b[0m selected_features \u001b[39m=\u001b[39m selector_model\u001b[39m.\u001b[39mtransform(selected_df)\n\u001b[1;32m     27\u001b[0m \u001b[39m# Get the selected feature names\u001b[39;00m\n",
      "File \u001b[0;32m~/.local/lib/python3.11/site-packages/pyspark/ml/base.py:205\u001b[0m, in \u001b[0;36mEstimator.fit\u001b[0;34m(self, dataset, params)\u001b[0m\n\u001b[1;32m    203\u001b[0m         \u001b[39mreturn\u001b[39;00m \u001b[39mself\u001b[39m\u001b[39m.\u001b[39mcopy(params)\u001b[39m.\u001b[39m_fit(dataset)\n\u001b[1;32m    204\u001b[0m     \u001b[39melse\u001b[39;00m:\n\u001b[0;32m--> 205\u001b[0m         \u001b[39mreturn\u001b[39;00m \u001b[39mself\u001b[39;49m\u001b[39m.\u001b[39;49m_fit(dataset)\n\u001b[1;32m    206\u001b[0m \u001b[39melse\u001b[39;00m:\n\u001b[1;32m    207\u001b[0m     \u001b[39mraise\u001b[39;00m \u001b[39mTypeError\u001b[39;00m(\n\u001b[1;32m    208\u001b[0m         \u001b[39m\"\u001b[39m\u001b[39mParams must be either a param map or a list/tuple of param maps, \u001b[39m\u001b[39m\"\u001b[39m\n\u001b[1;32m    209\u001b[0m         \u001b[39m\"\u001b[39m\u001b[39mbut got \u001b[39m\u001b[39m%s\u001b[39;00m\u001b[39m.\u001b[39m\u001b[39m\"\u001b[39m \u001b[39m%\u001b[39m \u001b[39mtype\u001b[39m(params)\n\u001b[1;32m    210\u001b[0m     )\n",
      "File \u001b[0;32m~/.local/lib/python3.11/site-packages/pyspark/ml/wrapper.py:381\u001b[0m, in \u001b[0;36mJavaEstimator._fit\u001b[0;34m(self, dataset)\u001b[0m\n\u001b[1;32m    380\u001b[0m \u001b[39mdef\u001b[39;00m \u001b[39m_fit\u001b[39m(\u001b[39mself\u001b[39m, dataset: DataFrame) \u001b[39m-\u001b[39m\u001b[39m>\u001b[39m JM:\n\u001b[0;32m--> 381\u001b[0m     java_model \u001b[39m=\u001b[39m \u001b[39mself\u001b[39;49m\u001b[39m.\u001b[39;49m_fit_java(dataset)\n\u001b[1;32m    382\u001b[0m     model \u001b[39m=\u001b[39m \u001b[39mself\u001b[39m\u001b[39m.\u001b[39m_create_model(java_model)\n\u001b[1;32m    383\u001b[0m     \u001b[39mreturn\u001b[39;00m \u001b[39mself\u001b[39m\u001b[39m.\u001b[39m_copyValues(model)\n",
      "File \u001b[0;32m~/.local/lib/python3.11/site-packages/pyspark/ml/wrapper.py:378\u001b[0m, in \u001b[0;36mJavaEstimator._fit_java\u001b[0;34m(self, dataset)\u001b[0m\n\u001b[1;32m    375\u001b[0m \u001b[39massert\u001b[39;00m \u001b[39mself\u001b[39m\u001b[39m.\u001b[39m_java_obj \u001b[39mis\u001b[39;00m \u001b[39mnot\u001b[39;00m \u001b[39mNone\u001b[39;00m\n\u001b[1;32m    377\u001b[0m \u001b[39mself\u001b[39m\u001b[39m.\u001b[39m_transfer_params_to_java()\n\u001b[0;32m--> 378\u001b[0m \u001b[39mreturn\u001b[39;00m \u001b[39mself\u001b[39;49m\u001b[39m.\u001b[39;49m_java_obj\u001b[39m.\u001b[39;49mfit(dataset\u001b[39m.\u001b[39;49m_jdf)\n",
      "File \u001b[0;32m~/.local/lib/python3.11/site-packages/py4j/java_gateway.py:1322\u001b[0m, in \u001b[0;36mJavaMember.__call__\u001b[0;34m(self, *args)\u001b[0m\n\u001b[1;32m   1316\u001b[0m command \u001b[39m=\u001b[39m proto\u001b[39m.\u001b[39mCALL_COMMAND_NAME \u001b[39m+\u001b[39m\\\n\u001b[1;32m   1317\u001b[0m     \u001b[39mself\u001b[39m\u001b[39m.\u001b[39mcommand_header \u001b[39m+\u001b[39m\\\n\u001b[1;32m   1318\u001b[0m     args_command \u001b[39m+\u001b[39m\\\n\u001b[1;32m   1319\u001b[0m     proto\u001b[39m.\u001b[39mEND_COMMAND_PART\n\u001b[1;32m   1321\u001b[0m answer \u001b[39m=\u001b[39m \u001b[39mself\u001b[39m\u001b[39m.\u001b[39mgateway_client\u001b[39m.\u001b[39msend_command(command)\n\u001b[0;32m-> 1322\u001b[0m return_value \u001b[39m=\u001b[39m get_return_value(\n\u001b[1;32m   1323\u001b[0m     answer, \u001b[39mself\u001b[39;49m\u001b[39m.\u001b[39;49mgateway_client, \u001b[39mself\u001b[39;49m\u001b[39m.\u001b[39;49mtarget_id, \u001b[39mself\u001b[39;49m\u001b[39m.\u001b[39;49mname)\n\u001b[1;32m   1325\u001b[0m \u001b[39mfor\u001b[39;00m temp_arg \u001b[39min\u001b[39;00m temp_args:\n\u001b[1;32m   1326\u001b[0m     \u001b[39mif\u001b[39;00m \u001b[39mhasattr\u001b[39m(temp_arg, \u001b[39m\"\u001b[39m\u001b[39m_detach\u001b[39m\u001b[39m\"\u001b[39m):\n",
      "File \u001b[0;32m~/.local/lib/python3.11/site-packages/pyspark/errors/exceptions/captured.py:175\u001b[0m, in \u001b[0;36mcapture_sql_exception.<locals>.deco\u001b[0;34m(*a, **kw)\u001b[0m\n\u001b[1;32m    171\u001b[0m converted \u001b[39m=\u001b[39m convert_exception(e\u001b[39m.\u001b[39mjava_exception)\n\u001b[1;32m    172\u001b[0m \u001b[39mif\u001b[39;00m \u001b[39mnot\u001b[39;00m \u001b[39misinstance\u001b[39m(converted, UnknownException):\n\u001b[1;32m    173\u001b[0m     \u001b[39m# Hide where the exception came from that shows a non-Pythonic\u001b[39;00m\n\u001b[1;32m    174\u001b[0m     \u001b[39m# JVM exception message.\u001b[39;00m\n\u001b[0;32m--> 175\u001b[0m     \u001b[39mraise\u001b[39;00m converted \u001b[39mfrom\u001b[39;00m \u001b[39mNone\u001b[39m\n\u001b[1;32m    176\u001b[0m \u001b[39melse\u001b[39;00m:\n\u001b[1;32m    177\u001b[0m     \u001b[39mraise\u001b[39;00m\n",
      "\u001b[0;31mIllegalArgumentException\u001b[0m: features does not exist. Available: NOTA_MEDIA_5_NOTAS, TP_FAIXA_ETARIA, CO_UF_PROVA, TP_COR_RACA, TP_ESCOLA, TP_DEPENDENCIA_ADM_ESC, TP_LOCALIZACAO_ESC, TP_COR_RACA_index"
     ]
    }
   ],
   "source": [
    "from pyspark.ml.feature import ChiSqSelector\n",
    "from pyspark.ml.stat import ChiSquareTest\n",
    "from pyspark.ml.classification import RandomForestClassifier\n",
    "from pyspark.ml.evaluation import MulticlassClassificationEvaluator\n",
    "from pyspark.ml import Pipeline\n",
    "from pyspark.sql.functions import col, when\n",
    "\n",
    "# Select the columns for feature selection\n",
    "feature_cols = lst_cols\n",
    "\n",
    "# Convert string columns to numerical using StringIndexer\n",
    "indexers = [StringIndexer(inputCol=col_name, outputCol=col_name+\"_index\").fit(df) for col_name in feature_cols]\n",
    "pipeline = Pipeline(stages=indexers)\n",
    "indexed_df = pipeline.fit(df).transform(df)\n",
    "\n",
    "# Select the features and the label column\n",
    "# Select the features and the label column\n",
    "selected_cols = feature_cols + ['TP_COR_RACA_index']\n",
    "selected_df = indexed_df.select(*selected_cols)\n",
    "\n",
    "\n",
    "# Compute the chi-square statistics for feature selection\n",
    "selector = ChiSqSelector(numTopFeatures=3, featuresCol='features', outputCol='selected_features', labelCol='TP_COR_RACA_index')\n",
    "selector_model = selector.fit(selected_df)\n",
    "selected_features = selector_model.transform(selected_df)\n",
    "\n",
    "# Get the selected feature names\n",
    "selected_feature_names = [feature_cols[i] for i in selector_model.selectedFeatures]\n",
    "\n",
    "print(\"Selected Features:\")\n",
    "for feature in selected_feature_names:\n",
    "    print(feature)\n"
   ]
  },
  {
   "cell_type": "code",
   "execution_count": null,
   "metadata": {},
   "outputs": [],
   "source": [
    "# Convert string columns to numerical using StringIndexer\n",
    "indexers = [StringIndexer(inputCol=col_name, outputCol=col_name+\"_index\") for col_name in df.columns if col_name != 'TP_COR_RACA']\n",
    "pipeline_stages = indexers + [StringIndexer(inputCol=\"TP_COR_RACA\", outputCol=\"label\")]\n",
    "pipeline = Pipeline(stages=pipeline_stages)\n",
    "df = pipeline.fit(df).transform(df)\n",
    "\n",
    "# Split the data into training and testing sets\n",
    "(trainingData, testData) = df.randomSplit([0.7, 0.3], seed=123)"
   ]
  },
  {
   "cell_type": "code",
   "execution_count": 330,
   "metadata": {},
   "outputs": [],
   "source": [
    "from pyspark.ml.feature import VectorAssembler\n",
    "\n",
    "# Define the input features\n",
    "input_cols = [x+'_index' for x in lst_cols if x!='TP_COR_RACA']\n",
    "\n",
    "# Create a VectorAssembler to combine the input features into a single vector column\n",
    "assembler = VectorAssembler(inputCols=input_cols, outputCol='features')\n",
    "\n",
    "# Transform the training and testing data using the VectorAssembler\n",
    "trainingData = assembler.transform(trainingData)\n",
    "testData = assembler.transform(testData)"
   ]
  },
  {
   "cell_type": "code",
   "execution_count": 327,
   "metadata": {},
   "outputs": [
    {
     "name": "stderr",
     "output_type": "stream",
     "text": [
      "[Stage 3874:============================>                           (1 + 1) / 2]\r"
     ]
    },
    {
     "name": "stdout",
     "output_type": "stream",
     "text": [
      "Logistic Regression Classifier Accuracy: 0.5383949056515428\n"
     ]
    },
    {
     "name": "stderr",
     "output_type": "stream",
     "text": [
      "                                                                                \r"
     ]
    }
   ],
   "source": [
    "# Logistic Regression Classifier\n",
    "lr = LogisticRegression(labelCol=\"label\", featuresCol=\"features\")\n",
    "lr_model = lr.fit(trainingData)\n",
    "lr_predictions = lr_model.transform(testData)\n",
    "lr_evaluator = MulticlassClassificationEvaluator(labelCol=\"label\", predictionCol=\"prediction\", metricName=\"accuracy\")\n",
    "lr_accuracy = lr_evaluator.evaluate(lr_predictions)\n",
    "print(\"Logistic Regression Classifier Accuracy:\", lr_accuracy)"
   ]
  },
  {
   "cell_type": "code",
   "execution_count": 331,
   "metadata": {},
   "outputs": [
    {
     "name": "stderr",
     "output_type": "stream",
     "text": [
      "[Stage 3920:============================>                           (1 + 1) / 2]\r"
     ]
    },
    {
     "name": "stdout",
     "output_type": "stream",
     "text": [
      "Decision Tree Classifier Accuracy: 0.5933651730111907\n"
     ]
    },
    {
     "name": "stderr",
     "output_type": "stream",
     "text": [
      "                                                                                \r"
     ]
    }
   ],
   "source": [
    "# Decision Tree Classifier\n",
    "dt = DecisionTreeClassifier(labelCol=\"label\", featuresCol=\"features\")\n",
    "dt_model = dt.fit(trainingData)\n",
    "dt_predictions = dt_model.transform(testData)\n",
    "dt_evaluator = MulticlassClassificationEvaluator(labelCol=\"label\", predictionCol=\"prediction\", metricName=\"accuracy\")\n",
    "dt_accuracy = dt_evaluator.evaluate(dt_predictions)\n",
    "print(\"Decision Tree Classifier Accuracy:\", dt_accuracy)"
   ]
  },
  {
   "cell_type": "code",
   "execution_count": 332,
   "metadata": {},
   "outputs": [
    {
     "name": "stderr",
     "output_type": "stream",
     "text": [
      "[Stage 3925:============================>                           (1 + 1) / 2]\r"
     ]
    },
    {
     "name": "stdout",
     "output_type": "stream",
     "text": [
      "Naive Bayes Classifier Accuracy: 0.5349299995317695\n"
     ]
    },
    {
     "name": "stderr",
     "output_type": "stream",
     "text": [
      "                                                                                \r"
     ]
    }
   ],
   "source": [
    "# Naive Bayes Classifier\n",
    "nb = NaiveBayes(labelCol=\"label\", featuresCol=\"features\")\n",
    "nb_model = nb.fit(trainingData)\n",
    "nb_predictions = nb_model.transform(testData)\n",
    "nb_evaluator = MulticlassClassificationEvaluator(labelCol=\"label\", predictionCol=\"prediction\", metricName=\"accuracy\")\n",
    "nb_accuracy = nb_evaluator.evaluate(nb_predictions)\n",
    "print(\"Naive Bayes Classifier Accuracy:\", nb_accuracy)"
   ]
  },
  {
   "cell_type": "code",
   "execution_count": 333,
   "metadata": {},
   "outputs": [
    {
     "name": "stderr",
     "output_type": "stream",
     "text": [
      "[Stage 3939:============================>                           (1 + 1) / 2]\r"
     ]
    },
    {
     "name": "stdout",
     "output_type": "stream",
     "text": [
      "Random Forest Classifier Accuracy: 0.5848667884066114\n"
     ]
    },
    {
     "name": "stderr",
     "output_type": "stream",
     "text": [
      "                                                                                \r"
     ]
    }
   ],
   "source": [
    "# Create a Random Forest Classifier\n",
    "rf = RandomForestClassifier(featuresCol='features', labelCol='label')\n",
    "\n",
    "# Train the Random Forest Classifier\n",
    "nb_model = rf.fit(trainingData)\n",
    "\n",
    "# Make predictions on the test data\n",
    "nb_predictions = nb_model.transform(testData)\n",
    "\n",
    "# Evaluate the model\n",
    "nb_evaluator = MulticlassClassificationEvaluator(labelCol='label', predictionCol='prediction', metricName='accuracy')\n",
    "nb_accuracy = nb_evaluator.evaluate(nb_predictions)\n",
    "\n",
    "print(\"Random Forest Classifier Accuracy:\", nb_accuracy)"
   ]
  }
 ],
 "metadata": {
  "kernelspec": {
   "display_name": "Python 3",
   "language": "python",
   "name": "python3"
  },
  "language_info": {
   "codemirror_mode": {
    "name": "ipython",
    "version": 3
   },
   "file_extension": ".py",
   "mimetype": "text/x-python",
   "name": "python",
   "nbconvert_exporter": "python",
   "pygments_lexer": "ipython3",
   "version": "3.11.3"
  },
  "orig_nbformat": 4
 },
 "nbformat": 4,
 "nbformat_minor": 2
}
