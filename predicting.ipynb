{
 "cells": [
  {
   "cell_type": "code",
   "execution_count": 1,
   "metadata": {},
   "outputs": [],
   "source": [
    "from pyspark.sql.types import *\n",
    "import pandas as pd\n",
    "import pyspark \n",
    "import os \n",
    "from pyspark.sql import SparkSession\n",
    "from pyspark.sql.functions import regexp_replace, col, sum as spark_sum\n",
    "from pyspark.sql import functions as F\n",
    "import matplotlib.pyplot as plt\n",
    "import seaborn as sns\n",
    "\n",
    "from pyspark.ml.feature import VectorAssembler\n",
    "from pyspark.ml.regression import LinearRegression, DecisionTreeRegressor, RandomForestRegressor\n",
    "from pyspark.ml.evaluation import RegressionEvaluator\n"
   ]
  },
  {
   "cell_type": "code",
   "execution_count": 11,
   "metadata": {},
   "outputs": [],
   "source": [
    "# Start a Spark session\n",
    "spark = SparkSession.builder.appName(\"s33ding\").getOrCreate()\n",
    "\n",
    "# Read the Parquet file into a DataFrame\n",
    "df = spark.read.csv(\"dataset/score_cn.csv\", sep=';',inferSchema=True,header=True)"
   ]
  },
  {
   "cell_type": "code",
   "execution_count": 15,
   "metadata": {},
   "outputs": [
    {
     "name": "stdout",
     "output_type": "stream",
     "text": [
      "+------------------------+----------------------------+------------------+------------+\n",
      "|NOTA_CH_CIENCIAS_HUMANAS|NOTA_LC_LINGUAGENS_E_CODIGOS|NOTA_MT_MATEMATICA|NOTA_REDACAO|\n",
      "+------------------------+----------------------------+------------------+------------+\n",
      "|                   385.4|                       461.4|             493.4|         500|\n",
      "|                   562.8|                       590.4|             577.1|         580|\n",
      "|                   487.3|                       447.5|             431.4|         500|\n",
      "|                   427.1|                       478.2|             458.9|         540|\n",
      "|                   465.5|                       507.4|             455.1|        null|\n",
      "|                   705.0|                       622.6|             645.1|         700|\n",
      "|                   485.6|                       495.9|             536.0|         540|\n",
      "|                   518.9|                       561.5|             555.0|         560|\n",
      "|                   542.2|                       461.6|             442.9|         420|\n",
      "|                   434.5|                       370.9|             411.3|         440|\n",
      "|                   362.4|                        null|             481.8|         460|\n",
      "|                   535.4|                       526.2|             454.4|         880|\n",
      "|                   471.6|                       353.9|             527.0|         920|\n",
      "|                   383.7|                       453.6|             487.2|         400|\n",
      "|                   510.2|                       597.1|             632.3|         440|\n",
      "|                   655.8|                       603.1|             735.7|         940|\n",
      "|                   460.1|                       487.7|             470.3|         600|\n",
      "|                   377.4|                       483.2|             355.8|         480|\n",
      "|                    null|                       537.7|             455.9|         520|\n",
      "|                   475.0|                       507.3|             401.4|         520|\n",
      "+------------------------+----------------------------+------------------+------------+\n",
      "only showing top 20 rows\n",
      "\n"
     ]
    }
   ],
   "source": [
    "# Select the relevant columns\n",
    "selected_cols = [\"NOTA_CH_CIENCIAS_HUMANAS\", \"NOTA_LC_LINGUAGENS_E_CODIGOS\", \"NOTA_MT_MATEMATICA\", \"NOTA_REDACAO\"]\n",
    "df = df.select(*selected_cols)\n",
    "df.show()"
   ]
  },
  {
   "cell_type": "code",
   "execution_count": 6,
   "metadata": {},
   "outputs": [
    {
     "name": "stderr",
     "output_type": "stream",
     "text": [
      "                                                                                \r"
     ]
    },
    {
     "name": "stdout",
     "output_type": "stream",
     "text": [
      "+--------------------+------------------------+------------------+------------------+------------------+\n",
      "|            features|NOTA_CH_CIENCIAS_HUMANAS|        prediction|     dt_prediction|     rf_prediction|\n",
      "+--------------------+------------------------+------------------+------------------+------------------+\n",
      "|[438.600006103515...|                   312.0| 427.2173158397308|445.56465763382846| 433.7275720494611|\n",
      "|[402.600006103515...|                   315.8|441.09851806307626|429.52856984921965|451.90907202865935|\n",
      "|[403.0,470.700012...|                   318.9| 433.0226707416916|429.52856984921965| 445.6404117874622|\n",
      "|[397.799987792968...|                   322.7|  427.406093463856|429.52856984921965| 440.6019828343871|\n",
      "|[393.799987792968...|                   324.9| 399.7897680506144|429.52856984921965| 428.4943453442205|\n",
      "|[431.600006103515...|                   326.7|  425.010834104182|429.52856984921965|433.84513935371905|\n",
      "|[342.5,395.299987...|                   328.4| 372.8469819254265|415.45028540862484| 429.1379586805324|\n",
      "|[501.899993896484...|                   328.4| 513.5087303966709| 487.9315251061614| 510.6521589459492|\n",
      "|[446.700012207031...|                   328.7|437.56689208075176|445.56465763382846|439.01462356717485|\n",
      "|[447.100006103515...|                   328.7|413.89810897984967|445.56465763382846| 435.1731134753321|\n",
      "|[471.399993896484...|                   328.8| 442.9346171317655|445.56465763382846|442.00174267333733|\n",
      "|[310.5,332.299987...|                   328.9| 341.0836262544552|415.45028540862484|428.19473163436504|\n",
      "|[340.600006103515...|                   328.9|384.62735103448233|415.45028540862484|447.66184048540117|\n",
      "|[423.799987792968...|                   328.9| 425.3657355724521|429.52856984921965|433.84513935371905|\n",
      "|[491.5,418.399993...|                   328.9|473.49923884750854| 469.7091749403532|  461.174958821544|\n",
      "|[330.399993896484...|                   329.1| 352.3218540047437|415.45028540862484| 428.4943453442205|\n",
      "|[505.100006103515...|                   329.1| 494.9712463919602| 469.7091749403532|481.03713035105045|\n",
      "|[457.899993896484...|                   329.5|462.70263915682193|462.30937486284233| 459.2970970513896|\n",
      "|[455.200012207031...|                   329.7|440.93876196924106|445.56465763382846|440.74275718818444|\n",
      "|[361.899993896484...|                   329.8| 388.8278840103326|415.45028540862484| 441.9196218171407|\n",
      "+--------------------+------------------------+------------------+------------------+------------------+\n",
      "only showing top 20 rows\n",
      "\n"
     ]
    },
    {
     "name": "stderr",
     "output_type": "stream",
     "text": [
      "                                                                                \r"
     ]
    }
   ],
   "source": [
    "# Create temporary views for the predictions\n",
    "lr_predictions.createOrReplaceTempView(\"lr_predictions\")\n",
    "dt_predictions.createOrReplaceTempView(\"dt_predictions\")\n",
    "rf_predictions.createOrReplaceTempView(\"rf_predictions\")\n",
    "\n",
    "# Join the prediction views\n",
    "joined_predictions = spark.sql(\"\"\"\n",
    "    SELECT lr_predictions.*, dt_predictions.prediction AS dt_prediction, rf_predictions.prediction AS rf_prediction\n",
    "    FROM lr_predictions\n",
    "    JOIN dt_predictions ON lr_predictions.features = dt_predictions.features\n",
    "    JOIN rf_predictions ON lr_predictions.features = rf_predictions.features\n",
    "\"\"\")\n",
    "\n",
    "# Show the joined predictions\n",
    "joined_predictions.show()\n",
    "joined_predictions.write.mode('overwrite').parquet('data_for_dashboards/moldes/joined_predictions.parquet')"
   ]
  },
  {
   "cell_type": "code",
   "execution_count": 9,
   "metadata": {},
   "outputs": [
    {
     "name": "stderr",
     "output_type": "stream",
     "text": [
      "                                                                                \r"
     ]
    },
    {
     "name": "stdout",
     "output_type": "stream",
     "text": [
      "+--------------------+------------------+\n",
      "|               Model|            Metric|\n",
      "+--------------------+------------------+\n",
      "|Linear Regression...|3486.2284549459614|\n",
      "|Decision Tree Reg...|3575.3004645918954|\n",
      "|Random Forest Reg...|3557.4326972395693|\n",
      "|Linear Regression...| 46.53917523663759|\n",
      "|Decision Tree Reg...| 47.50908573152333|\n",
      "|Random Forest Reg...| 47.89572724833537|\n",
      "+--------------------+------------------+\n",
      "\n"
     ]
    }
   ],
   "source": [
    "from pyspark.ml.evaluation import RegressionEvaluator\n",
    "\n",
    "# Define the evaluator\n",
    "evaluator = RegressionEvaluator(labelCol=\"NOTA_CH_CIENCIAS_HUMANAS\", predictionCol=\"prediction\")\n",
    "\n",
    "# Calculate MSE for linear regression\n",
    "lr_mse = evaluator.evaluate(lr_predictions, {evaluator.metricName: \"mse\"})\n",
    "\n",
    "# Calculate MSE for decision tree regression\n",
    "dt_mse = evaluator.evaluate(dt_predictions, {evaluator.metricName: \"mse\"})\n",
    "\n",
    "# Calculate MSE for random forest regression\n",
    "rf_mse = evaluator.evaluate(rf_predictions, {evaluator.metricName: \"mse\"})\n",
    "\n",
    "# Calculate MAE for linear regression\n",
    "lr_mae = evaluator.evaluate(lr_predictions, {evaluator.metricName: \"mae\"})\n",
    "\n",
    "# Calculate MAE for decision tree regression\n",
    "dt_mae = evaluator.evaluate(dt_predictions, {evaluator.metricName: \"mae\"})\n",
    "\n",
    "# Calculate MAE for random forest regression\n",
    "rf_mae = evaluator.evaluate(rf_predictions, {evaluator.metricName: \"mae\"})\n",
    "\n",
    "# Define the data\n",
    "data_comparing_models = [\n",
    "    (\"Linear Regression - MSE\", lr_mse),\n",
    "    (\"Decision Tree Regression - MSE\", dt_mse),\n",
    "    (\"Random Forest Regression - MSE\", rf_mse),\n",
    "    (\"Linear Regression - MAE\", lr_mae),\n",
    "    (\"Decision Tree Regression - MAE\", dt_mae),\n",
    "    (\"Random Forest Regression - MAE\", rf_mae)\n",
    "]\n",
    "\n",
    "# Define the data\n",
    "data_comparing_models = [\n",
    "    (\"Linear Regression - MSE\", lr_mse),\n",
    "    (\"Decision Tree Regression - MSE\", dt_mse),\n",
    "    (\"Random Forest Regression - MSE\", rf_mse),\n",
    "    (\"Linear Regression - MAE\", lr_mae),\n",
    "    (\"Decision Tree Regression - MAE\", dt_mae),\n",
    "    (\"Random Forest Regression - MAE\", rf_mae)\n",
    "]\n",
    "\n",
    "# Define the schema for the DataFrame\n",
    "schema_comparing_models = StructType([\n",
    "    StructField(\"Model\", StringType(), True),\n",
    "    StructField(\"Metric\", DoubleType(), True)\n",
    "])\n",
    "\n",
    "# Create the DataFrame\n",
    "df_comparing_models = spark.createDataFrame(data_comparing_models, schema_comparing_models)\n",
    "\n",
    "# Show the DataFrame\n",
    "df_comparing_models.write.mode('overwrite')\\\n",
    "    .parquet('data_for_dashboards/models/comparing_models.parquet')\n",
    "\n",
    "df_comparing_models.show()"
   ]
  },
  {
   "cell_type": "code",
   "execution_count": 63,
   "metadata": {},
   "outputs": [],
   "source": [
    "# Specify the path to save the model\n",
    "model_path = \"models/linear_regression_model\"\n",
    "\n",
    "# Save the Linear Regression model\n",
    "lr_model.save(model_path)"
   ]
  }
 ],
 "metadata": {
  "kernelspec": {
   "display_name": "Python 3",
   "language": "python",
   "name": "python3"
  },
  "language_info": {
   "codemirror_mode": {
    "name": "ipython",
    "version": 3
   },
   "file_extension": ".py",
   "mimetype": "text/x-python",
   "name": "python",
   "nbconvert_exporter": "python",
   "pygments_lexer": "ipython3",
   "version": "3.11.3"
  },
  "orig_nbformat": 4
 },
 "nbformat": 4,
 "nbformat_minor": 2
}
